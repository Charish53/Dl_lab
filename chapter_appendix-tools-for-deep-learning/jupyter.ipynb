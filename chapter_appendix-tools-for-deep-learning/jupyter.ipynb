{
  "cells": [
    {
      "cell_type": "markdown",
      "source": [
        "# **LAB 01-Feed Forward & Back-Propagation Learning Algorithm**\n",
        "\n",
        "### **20th January 2025**\n",
        "# **REDDIPALLI SAI CHARISH**\n",
        "# **CS22B1095**\n",
        "\n",
        "\n",
        "---\n",
        "\n",
        "\n",
        "\n",
        "---\n",
        "\n",
        "\n",
        "\n",
        "---\n",
        "\n",
        "\n",
        "\n",
        "\n",
        "\n"
      ],
      "metadata": {
        "id": "clDjI2zNfbpU"
      },
      "id": "clDjI2zNfbpU"
    },
    {
      "cell_type": "markdown",
      "source": [
        "#**QUESTION-1**\n",
        "Implement the Perceptron algorithm from scratch in Python.\n",
        "*   Initialize the weights with [0 0 0] and a learning rate of 0.0001.\n",
        "*   For each iteration, calculate the output of the Perceptron for each input in the training set.\n",
        "*  Use MSE to computer the error for all samples\n",
        "* Update the weights using the gradient descent procedure.\n",
        "*   Repeat the above steps until the Perceptron converges or a maximum number of iterations is reached.\n",
        "* Test the trained Perceptron on a separate test set, explain how you came up with the test set.\n",
        "* Use the step function as an  activation function in the output layer\n",
        "Use the IRIS Dataset for the above, considering all four features: sepal length, sepal width, petal length, and petal width, but only two classes -  Setosa, and Versicolor.  Drop the feature vectors of the other class.\n"
      ],
      "metadata": {
        "id": "8deFP1s-ggux"
      },
      "id": "8deFP1s-ggux"
    },
    {
      "cell_type": "code",
      "source": [],
      "metadata": {
        "id": "FzwrrKKsgoEF"
      },
      "id": "FzwrrKKsgoEF",
      "execution_count": null,
      "outputs": []
    }
  ],
  "metadata": {
    "kernelspec": {
      "display_name": "Python 3",
      "name": "python3"
    },
    "language_info": {
      "name": "python"
    },
    "required_libs": [],
    "colab": {
      "provenance": []
    }
  },
  "nbformat": 4,
  "nbformat_minor": 5
}